import pandas as pd
import numpy as np

# pretty printing
pd.set_option("display.max_rows", None, "display.max_columns", None, "display.width", None) 

#import credit card data to df and skip the top row 
df = pd.read_excel('https://archive.ics.uci.edu/ml/machine-learning-databases/00350/default%20of%20credit%20card%20clients.xls', skiprows=[0])
# df = pd.read_excel(r'C:\Users\chr1s\Desktop\default_of_credit_card_clients.xls', skiprows=[0])

#Rename columns 'PAY_0' and 'default payment next month'
df = df.rename(columns = {'PAY_0':'PAY_1', 'default payment next month': 'payment_default'})

#Delete 'ID" column 
df.drop('ID', inplace=True, axis=1)
#print(df.head(5))

#Print columns of df
print("Columns of df: \n", df.columns)

#Print shape of df
print("Shape of df: \n ", df.shape)


from sklearn.preprocessing import OneHotEncoder

#Print value_counts() of 'SEX' column 
print("Value of SEX column:\n", df['SEX'].value_counts())

#Create dummy variables 'SEX_MALE' and 'SEX_FEMALE' using get_dummies()
one_hot = pd.get_dummies(df['SEX'])
df2=df.join(one_hot)
df2 = df2.rename(columns = {1:'SEX_MALE', 2: 'SEX_FEMALE'}) 
#print(df2.head(5))

#Print `value_counts()` of 'MARRIAGE' column 
print("\nValue of MARRIAGE column:\n", df2['MARRIAGE'].value_counts())

#replace all value 0 at column MARRIAGE by value 3 
df2['MARRIAGE'] = df2['MARRIAGE'].replace([0],3)

#check all values of column MARRIAGE to make sure there is no other value rather than 1-2-3
print("Value of MARRIAGE column after adjustment:\n", df2['MARRIAGE'].value_counts())
                                          
#Use get_dummies() on 'MARRIAGE' and create dummy variables, save the result to df3
one_hot = pd.get_dummies(df2['MARRIAGE'])
df3=df2.join(one_hot)
df3 = df3.rename(columns = {1:'MARRIAGE_MARRIED', 2: 'MARRIAGE_SINGLE', 3: 'MARRIAGE_OTHER'}) 
# print(df3.head(5))
# print(df3["MARRIAGE"].shape)

#4. In the column 'EDUCATION', convert values {0, 4, 5, 6} into the value 4. 
# Education (1=graduate school; 2=university; 3=high school; 4=other)

# #before adjustment
# print("Value of EDUCATION before adjustment:\n", df3['EDUCATION'].value_counts())

#convert values {0, 4, 5, 6} into the value 4
df3['EDUCATION'] = df3['EDUCATION'].replace([0,4,5,6],4)

# #check after adjustment
# print("Value of EDUCATION after adjustment: \n", df3['EDUCATION'].value_counts())
# # print(df3.head(5))

#1. Delete the columns 'SEX' and 'MARRIAGE' (2.5 marks)
df3.drop(['SEX','MARRIAGE'], inplace=True, axis=1)
# print(df3.head(5))

#2. Preparing X and y arrays
y = df3['payment_default'].loc[10000:12999].values 
# print(y, len(y))

colums_to_use_for_X = df3.columns.difference(['payment_default'])
print(colums_to_use_for_X)

X = df3[colums_to_use_for_X].loc[10000:12999].values
# print(X, len(X))

#3. Create y_train, y_test, X_train and X_test

from sklearn.model_selection import train_test_split

X_train, X_test, y_train, y_test = train_test_split(X, y, test_size = 0.3, random_state = 1, stratify = y)

print(X_train.shape, X_test.shape)
print(y_train.shape, y_test.shape)
