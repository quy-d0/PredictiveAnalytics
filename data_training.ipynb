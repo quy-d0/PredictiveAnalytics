#1. Training the classifier by Logistic Regression 
from sklearn .linear_model import LogisticRegression
lr = LogisticRegression(random_state=1)
lr.fit(X_train_scaled, y_train)


#2.Training the classifier by Support Vector Machine - Linear Kernel 
from sklearn.svm import SVC
svm_linear = SVC(kernel='linear', C=1.0, random_state=1)
svm_linear.fit(X_train_scaled, y_train)

#3.Training the classifier by Support Vector Machine - RBF Kernel 
svm_rbf = SVC(kernel='rbf', gamma=10, C=10.0, random_state=1)
svm_rbf.fit(X_train_scaled, y_train)

#4.Training the classifier by Decision Tree
from sklearn.tree import DecisionTreeClassifier
tree = DecisionTreeClassifier(criterion='gini', max_depth=4, random_state=1)
tree.fit(X_train, y_train)

#5.Training the classifier by Random Forest
from sklearn.ensemble import RandomForestClassifier
forest = RandomForestClassifier (criterion = 'gini', n_estimators=50, random_state=1)
forest.fit(X_train, y_train)

#6.Training the classifier by KNN
from sklearn.neighbors import KNeighborsClassifier
knn = KNeighborsClassifier(n_neighbors=5, p=2, metric='minkowski')
knn.fit(X_train_scaled, y_train)

